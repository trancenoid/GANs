{
  "nbformat": 4,
  "nbformat_minor": 0,
  "metadata": {
    "colab": {
      "name": "Copytam_Da_RNN.ipynb",
      "version": "0.3.2",
      "provenance": [],
      "collapsed_sections": [],
      "include_colab_link": true
    },
    "kernelspec": {
      "name": "python3",
      "display_name": "Python 3"
    },
    "accelerator": "GPU"
  },
  "cells": [
    {
      "cell_type": "markdown",
      "metadata": {
        "id": "view-in-github",
        "colab_type": "text"
      },
      "source": [
        "<a href=\"https://colab.research.google.com/github/trancenoid/GANs/blob/master/Copytam_Da_RNN.ipynb\" target=\"_parent\"><img src=\"https://colab.research.google.com/assets/colab-badge.svg\" alt=\"Open In Colab\"/></a>"
      ]
    },
    {
      "cell_type": "code",
      "metadata": {
        "id": "sO_arjCsO_hC",
        "colab_type": "code",
        "colab": {}
      },
      "source": [
        "import io\n",
        "text = io.open('lyrics.txt', ).read().lower()\n",
        "Tx = 40\n",
        "strides = 3\n",
        "\n",
        "def prep_XY(text, Tx = 40, stride = 5):\n",
        "  X = []\n",
        "  Y = []\n",
        "  for i in range(0,len(text) - Tx, stride):\n",
        "      X.append(text[i : i + Tx])\n",
        "      Y.append(text[i + Tx])\n",
        "  return X,Y\n",
        "\n",
        "X,Y = prep_XY(text, Tx, strides)"
      ],
      "execution_count": 0,
      "outputs": []
    },
    {
      "cell_type": "code",
      "metadata": {
        "id": "pLJKlXUPb4YT",
        "colab_type": "code",
        "colab": {
          "base_uri": "https://localhost:8080/",
          "height": 90
        },
        "outputId": "7a1f7e98-5411-40d5-8a7e-ae9d6912c46a"
      },
      "source": [
        "print(X[1], Y[1])"
      ],
      "execution_count": 2,
      "outputs": [
        {
          "output_type": "stream",
          "text": [
            "ool jigar\n",
            "ya baba \n",
            "qaatil hai nazar\n",
            "ya b a\n"
          ],
          "name": "stdout"
        }
      ]
    },
    {
      "cell_type": "code",
      "metadata": {
        "id": "H-GcXZVpfFKu",
        "colab_type": "code",
        "colab": {
          "base_uri": "https://localhost:8080/",
          "height": 55
        },
        "outputId": "7b3db6e1-1a2c-4695-cdeb-758212aec090"
      },
      "source": [
        "chars = sorted(list(set(text)))\n",
        "idx_char = dict(enumerate(chars))\n",
        "char_idx = dict((c,i) for i,c in enumerate(chars))\n",
        "print(char_idx)"
      ],
      "execution_count": 19,
      "outputs": [
        {
          "output_type": "stream",
          "text": [
            "{'\\n': 0, ' ': 1, '!': 2, \"'\": 3, ',': 4, '-': 5, '.': 6, '/': 7, ':': 8, '?': 9, '[': 10, ']': 11, 'a': 12, 'b': 13, 'c': 14, 'd': 15, 'e': 16, 'f': 17, 'g': 18, 'h': 19, 'i': 20, 'j': 21, 'k': 22, 'l': 23, 'm': 24, 'n': 25, 'o': 26, 'p': 27, 'q': 28, 'r': 29, 's': 30, 't': 31, 'u': 32, 'v': 33, 'w': 34, 'y': 35, 'z': 36}\n"
          ],
          "name": "stdout"
        }
      ]
    },
    {
      "cell_type": "code",
      "metadata": {
        "id": "Ohd_ATfml4eN",
        "colab_type": "code",
        "colab": {
          "base_uri": "https://localhost:8080/",
          "height": 35
        },
        "outputId": "793cc18f-fbb8-4704-9cd9-64c3cbd68322"
      },
      "source": [
        "import numpy as np\n",
        "\n",
        "def vectorize(X,Y, char_idx, Tx = 40):\n",
        "  x = np.zeros((len(X), Tx, len(char_idx)))\n",
        "  y = np.zeros((len(X), len(char_idx)))\n",
        "  for i,sx in enumerate(X):\n",
        "    for j,c in enumerate(sx):\n",
        "      x[i, j, char_idx[c]] = 1\n",
        "    y[i, char_idx[Y[i]]] = 1\n",
        "  return x,y\n",
        "\n",
        "x,y = vectorize(X,Y, char_idx, 40)\n",
        "print(x.shape)\n",
        "\n",
        "def sample(preds, temp = 1.0):\n",
        "  preds = np.asarray(preds).astype('float64')\n",
        "  preds = np.log(preds)/temp\n",
        "  exp_pred = np.exp(preds)\n",
        "  exp_pred = exp_pred/np.sum(exp_pred)\n",
        "  choice = np.random.multinomial(1, exp_pred, 1)\n",
        "  return np.argmax(choice)"
      ],
      "execution_count": 20,
      "outputs": [
        {
          "output_type": "stream",
          "text": [
            "(13684, 40, 37)\n"
          ],
          "name": "stdout"
        }
      ]
    },
    {
      "cell_type": "code",
      "metadata": {
        "id": "2tJEANiYm-oc",
        "colab_type": "code",
        "colab": {}
      },
      "source": [
        "from keras.layers import LSTM, Dense\n",
        "from keras.models import Sequential\n",
        "from keras.optimizers import RMSprop\n",
        "from keras.callbacks import LambdaCallback\n",
        "opt = RMSprop(lr = 0.01)\n",
        "model = Sequential()\n",
        "model.add(LSTM(128, input_shape = (Tx, len(char_idx))))\n",
        "model.add(Dense(len(chars), activation = 'softmax'))\n",
        "model.compile(loss = 'categorical_crossentropy', optimizer = opt)"
      ],
      "execution_count": 0,
      "outputs": []
    },
    {
      "cell_type": "code",
      "metadata": {
        "id": "g470e9r8__vC",
        "colab_type": "code",
        "colab": {
          "base_uri": "https://localhost:8080/",
          "height": 1560
        },
        "outputId": "25ec80e8-1461-4964-e24a-2ca1501cfbb6"
      },
      "source": [
        "from tqdm import tqdm\n",
        "def on_epoch_end(epoch, _ ):\n",
        "  if(epoch%10 != 0): return\n",
        "  seed = \"tu nazm nazm sa mere honthon pe theharja\"\n",
        "  seed = seed.zfill(40)\n",
        "  \n",
        "  cur_seq = seed\n",
        "  diversity = [1.0]\n",
        "  \n",
        "  for temp in diversity:\n",
        "    generated = ''\n",
        "    generated += seed + \" \"\n",
        "    \n",
        "    for _ in tqdm(range(400)):\n",
        "      x_pred = np.zeros((1, Tx, len(char_idx)))\n",
        "      for i, ch in enumerate(cur_seq):\n",
        "        if(ch != '0'):\n",
        "          x_pred[0, i, char_idx[ch]] = 1\n",
        "      pred = model.predict(x_pred)[0]\n",
        "      chosen_idx = sample(pred, temp)\n",
        "      pred_ch = idx_char[chosen_idx]\n",
        "\n",
        "      cur_seq = cur_seq[1:] + pred_ch\n",
        "      generated += pred_ch\n",
        "\n",
        "    print(generated)\n",
        "    \n",
        "print_callback = LambdaCallback(on_epoch_end = on_epoch_end)\n",
        "model.fit(x,y, epochs = 200, batch_size = 128, callbacks = [print_callback])\n",
        "    \n",
        "  "
      ],
      "execution_count": 0,
      "outputs": [
        {
          "output_type": "stream",
          "text": [
            "Epoch 1/200\n",
            "13684/13684 [==============================] - 10s 754us/step - loss: 2.6277\n"
          ],
          "name": "stdout"
        },
        {
          "output_type": "stream",
          "text": [
            "100%|██████████| 400/400 [00:12<00:00, 33.30it/s]\n"
          ],
          "name": "stderr"
        },
        {
          "output_type": "stream",
          "text": [
            "tu nazm nazm sa mere honthon pe theharja areyi chiye paalz gaina\n",
            "aipturi ya\n",
            "\n",
            "uelarcsara\n",
            "jaadi eeinn, hu mo hean naan kur sale\n",
            "paradjaa\n",
            "ai tere jhaiza\n",
            "hooi chal balai\n",
            "jo ja dheri\n",
            "kua\n",
            "po raghgse,beki \n",
            "aan oo ha\n",
            "oare ter.neda meer \n",
            "tulta sonsaar\n",
            "\n",
            "zari dehzn rarsahaar\n",
            "metzaaro hai sher tardil badbaaneberi pain ahilkra onhar, phiy\n",
            "iaha\n",
            "mar?hjartnr paribhon\n",
            "\n",
            "tohn oin meral jul k mekhe shsejny\n",
            "te naraba\n",
            "mu..ngte:n kaw ka\n",
            "yuan\n",
            "\n",
            "shujsa turbtoji h\n",
            "Epoch 2/200\n",
            "13684/13684 [==============================] - 9s 692us/step - loss: 2.1403\n",
            "Epoch 3/200\n",
            "13684/13684 [==============================] - 9s 691us/step - loss: 1.9188\n",
            "Epoch 4/200\n",
            "13684/13684 [==============================] - 9s 692us/step - loss: 1.7154\n",
            "Epoch 5/200\n",
            "13684/13684 [==============================] - 9s 688us/step - loss: 1.5260\n",
            "Epoch 6/200\n",
            "13684/13684 [==============================] - 9s 692us/step - loss: 1.3571\n",
            "Epoch 7/200\n",
            "13684/13684 [==============================] - 9s 692us/step - loss: 1.2073\n",
            "Epoch 8/200\n",
            "13684/13684 [==============================] - 9s 692us/step - loss: 1.0756\n",
            "Epoch 9/200\n",
            "13684/13684 [==============================] - 9s 693us/step - loss: 0.9707\n",
            "Epoch 10/200\n",
            "13684/13684 [==============================] - 9s 692us/step - loss: 0.8832\n",
            "Epoch 11/200\n",
            "13684/13684 [==============================] - 9s 694us/step - loss: 0.8002\n"
          ],
          "name": "stdout"
        },
        {
          "output_type": "stream",
          "text": [
            "100%|██████████| 400/400 [00:12<00:00, 33.45it/s]\n"
          ],
          "name": "stderr"
        },
        {
          "output_type": "stream",
          "text": [
            "tu nazm nazm sa mere honthon pe theharja an main.\n",
            "teri nigaaha ki dekh\n",
            "badalon mein\n",
            "tumse tu mera karta hain\n",
            "tu itra mere\n",
            "lagh jaaye\n",
            "n manave k atana\n",
            "dil ki diya\n",
            "\n",
            "bhakoo sang deolu ki jina ki bhaba\n",
            "bak, hawlon baaje\n",
            "bhaine ki naaat hua tera\n",
            "usiydig loon\n",
            "khusm hai\n",
            "toh babai\n",
            "woon ki saja\n",
            "paa kibbaan\n",
            "nuki giye..\n",
            "\n",
            "\n",
            "misa tere  koch bhi teri\n",
            "jhangar karlan\n",
            "\n",
            "judko tuda sun.. mein bin tere  \n",
            "bin tere  \n",
            "bin tere  \n",
            "bin tere \n",
            "\n",
            "bandat re sunoon\n",
            "sujo\n",
            "Epoch 12/200\n",
            "13684/13684 [==============================] - 9s 693us/step - loss: 0.7405\n",
            "Epoch 13/200\n",
            " 9984/13684 [====================>.........] - ETA: 2s - loss: 0.6700"
          ],
          "name": "stdout"
        }
      ]
    },
    {
      "cell_type": "code",
      "metadata": {
        "id": "I2M0ebEG7HYl",
        "colab_type": "code",
        "colab": {}
      },
      "source": [
        ""
      ],
      "execution_count": 0,
      "outputs": []
    }
  ]
}